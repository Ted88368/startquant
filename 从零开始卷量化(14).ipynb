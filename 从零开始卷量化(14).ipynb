{
 "cells": [
  {
   "cell_type": "code",
   "execution_count": 6,
   "id": "9267aa54",
   "metadata": {},
   "outputs": [
    {
     "name": "stdout",
     "output_type": "stream",
     "text": [
      "Hello World!\n"
     ]
    }
   ],
   "source": [
    "print(\"Hello World!\")"
   ]
  },
  {
   "cell_type": "code",
   "execution_count": 10,
   "id": "20aa035c",
   "metadata": {},
   "outputs": [
    {
     "ename": "ModuleNotFoundError",
     "evalue": "No module named 'akshare'",
     "output_type": "error",
     "traceback": [
      "\u001b[1;31m---------------------------------------------------------------------------\u001b[0m",
      "\u001b[1;31mModuleNotFoundError\u001b[0m                       Traceback (most recent call last)",
      "Cell \u001b[1;32mIn[10], line 1\u001b[0m\n\u001b[1;32m----> 1\u001b[0m \u001b[39mimport\u001b[39;00m \u001b[39makshare\u001b[39;00m \u001b[39mas\u001b[39;00m \u001b[39mak\u001b[39;00m\n\u001b[0;32m      3\u001b[0m stock_sse_summary_df \u001b[39m=\u001b[39m ak\u001b[39m.\u001b[39mstock_sse_summary()\n\u001b[0;32m      4\u001b[0m stock_sse_summary_df\n",
      "\u001b[1;31mModuleNotFoundError\u001b[0m: No module named 'akshare'"
     ]
    }
   ],
   "source": [
    "import akshare as ak\n",
    "\n",
    "stock_sse_summary_df = ak.stock_sse_summary()\n",
    "stock_sse_summary_df"
   ]
  },
  {
   "cell_type": "code",
   "execution_count": null,
   "id": "24c07a17",
   "metadata": {},
   "outputs": [],
   "source": [
    "stock_zt_pool_em_df = ak.stock_zt_pool_em(date='20210525')\n",
    "stock_zt_pool_em_df"
   ]
  },
  {
   "cell_type": "code",
   "execution_count": null,
   "id": "20c2e6bf",
   "metadata": {},
   "outputs": [],
   "source": [
    "stock_hot_rank_wc_df = ak.stock_hot_rank_wc(date=\"20220330\")\n",
    "stock_hot_rank_wc_df[:10]"
   ]
  },
  {
   "cell_type": "code",
   "execution_count": null,
   "id": "0e0a3b85",
   "metadata": {},
   "outputs": [],
   "source": [
    "stock_fund_flow_concept_df = ak.stock_fund_flow_concept(symbol=\"即时\")\n",
    "stock_fund_flow_concept_df"
   ]
  },
  {
   "cell_type": "code",
   "execution_count": null,
   "id": "fec78435",
   "metadata": {},
   "outputs": [],
   "source": []
  }
 ],
 "metadata": {
  "kernelspec": {
   "display_name": "Python 3 (ipykernel)",
   "language": "python",
   "name": "python3"
  },
  "language_info": {
   "codemirror_mode": {
    "name": "ipython",
    "version": 3
   },
   "file_extension": ".py",
   "mimetype": "text/x-python",
   "name": "python",
   "nbconvert_exporter": "python",
   "pygments_lexer": "ipython3",
   "version": "3.10.9"
  }
 },
 "nbformat": 4,
 "nbformat_minor": 5
}
